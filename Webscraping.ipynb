{
  "nbformat": 4,
  "nbformat_minor": 0,
  "metadata": {
    "kernelspec": {
      "display_name": "Python",
      "language": "python",
      "name": "conda-env-python-py"
    },
    "language_info": {
      "codemirror_mode": {
        "name": "ipython",
        "version": 3
      },
      "file_extension": ".py",
      "mimetype": "text/x-python",
      "name": "python",
      "nbconvert_exporter": "python",
      "pygments_lexer": "ipython3",
      "version": "3.6.13"
    },
    "colab": {
      "name": "Webscraping_Engineer_Peer_Review_Assignment.ipynb",
      "provenance": [],
      "include_colab_link": true
    }
  },
  "cells": [
    {
      "cell_type": "markdown",
      "metadata": {
        "id": "view-in-github",
        "colab_type": "text"
      },
      "source": [
        "<a href=\"https://colab.research.google.com/github/AhmedAtya74/IBM-Data-Engineering-Project/blob/main/Webscraping.ipynb\" target=\"_parent\"><img src=\"https://colab.research.google.com/assets/colab-badge.svg\" alt=\"Open In Colab\"/></a>"
      ]
    },
    {
      "cell_type": "markdown",
      "metadata": {
        "id": "5CI5oyc5bc17"
      },
      "source": [
        "<center>\n",
        "    <img src=\"https://gitlab.com/ibm/skills-network/courses/placeholder101/-/raw/master/labs/module%201/images/IDSNlogo.png\" width=\"300\" alt=\"cognitiveclass.ai logo\"  />\n",
        "</center>\n"
      ]
    },
    {
      "cell_type": "markdown",
      "metadata": {
        "id": "_QxKeQMXbc1_"
      },
      "source": [
        "# Peer Review Assignment - Data Engineer - Webscraping\n"
      ]
    },
    {
      "cell_type": "markdown",
      "metadata": {
        "id": "7TMdI_Xpbc2A"
      },
      "source": [
        "## Objectives\n",
        "\n",
        "In this part you will:\n",
        "\n",
        "*   Use webscraping to get bank information\n"
      ]
    },
    {
      "cell_type": "markdown",
      "metadata": {
        "id": "7vcmC3tVbc2A"
      },
      "source": [
        "For this lab, we are going to be using Python and several Python libraries. Some of these libraries might be installed in your lab environment or in SN Labs. Others may need to be installed by you. The cells below will install these libraries when executed.\n"
      ]
    },
    {
      "cell_type": "code",
      "metadata": {
        "colab": {
          "base_uri": "https://localhost:8080/"
        },
        "id": "YWdo7mXBbc2B",
        "outputId": "28c85cf5-1fe0-48f1-9633-c2f54a96d912"
      },
      "source": [
        "#!pip install pandas\n",
        "!pip install bs4\n",
        "#!pip install requests"
      ],
      "execution_count": 1,
      "outputs": [
        {
          "output_type": "stream",
          "name": "stdout",
          "text": [
            "Requirement already satisfied: bs4 in /usr/local/lib/python3.7/dist-packages (0.0.1)\n",
            "Requirement already satisfied: beautifulsoup4 in /usr/local/lib/python3.7/dist-packages (from bs4) (4.6.3)\n"
          ]
        }
      ]
    },
    {
      "cell_type": "markdown",
      "metadata": {
        "id": "h8WymCiabc2D"
      },
      "source": [
        "## Imports\n",
        "\n",
        "Import any additional libraries you may need here.\n"
      ]
    },
    {
      "cell_type": "code",
      "metadata": {
        "id": "l-Pg7h9Vbc2D"
      },
      "source": [
        "from bs4 import BeautifulSoup\n",
        "import requests\n",
        "import pandas as pd"
      ],
      "execution_count": 2,
      "outputs": []
    },
    {
      "cell_type": "markdown",
      "metadata": {
        "id": "A4EpnAarbc2E"
      },
      "source": [
        "## Extract Data Using Web Scraping\n"
      ]
    },
    {
      "cell_type": "markdown",
      "metadata": {
        "id": "dUfE-hnIbc2E"
      },
      "source": [
        "The wikipedia webpage [https://en.wikipedia.org/wiki/List_of_largest_banks](https://en.wikipedia.org/wiki/List_of_largest_banks?utm_medium=Exinfluencer&utm_source=Exinfluencer&utm_content=000026UJ&utm_term=10006555&utm_id=NA-SkillsNetwork-Channel-SkillsNetworkCoursesIBMDeveloperSkillsNetworkPY0221ENSkillsNetwork23455645-2021-01-01) provides information about largest banks in the world by various parameters. Scrape the data from the table 'By market capitalization' and store it in a JSON file.\n"
      ]
    },
    {
      "cell_type": "markdown",
      "metadata": {
        "id": "hLgQl3shbc2E"
      },
      "source": [
        "### Webpage Contents\n",
        "\n",
        "Gather the contents of the webpage in text format using the `requests` library and assign it to the variable <code>html_data</code>\n"
      ]
    },
    {
      "cell_type": "code",
      "metadata": {
        "id": "ASfY2ogYbc2E"
      },
      "source": [
        "html_data = requests.get('https://en.wikipedia.org/wiki/List_of_largest_banks').text\n"
      ],
      "execution_count": 3,
      "outputs": []
    },
    {
      "cell_type": "markdown",
      "metadata": {
        "id": "Ktf7oBHVbc2F"
      },
      "source": [
        "<b>Question 1</b> Print out the output of the following line, and remember it as it will be a quiz question:\n"
      ]
    },
    {
      "cell_type": "code",
      "metadata": {
        "colab": {
          "base_uri": "https://localhost:8080/",
          "height": 35
        },
        "id": "Je8uIG71bc2F",
        "outputId": "458e539f-f9ed-4482-bbbb-8d163dbee351"
      },
      "source": [
        "html_data[101:124]"
      ],
      "execution_count": 4,
      "outputs": [
        {
          "output_type": "execute_result",
          "data": {
            "application/vnd.google.colaboratory.intrinsic+json": {
              "type": "string"
            },
            "text/plain": [
              "'List of largest banks -'"
            ]
          },
          "metadata": {},
          "execution_count": 4
        }
      ]
    },
    {
      "cell_type": "markdown",
      "metadata": {
        "id": "OQ_XIgf7bc2F"
      },
      "source": [
        "### Scraping the Data\n",
        "\n",
        "<b> Question 2</b> Using the contents and `beautiful soup` load the data from the `By market capitalization` table into a `pandas` dataframe. The dataframe should have the country `Name` and `Market Cap (US$ Billion)` as column names.  Display the first five rows using head.\n"
      ]
    },
    {
      "cell_type": "markdown",
      "metadata": {
        "id": "gwz-h0OKbc2G"
      },
      "source": [
        "Using BeautifulSoup parse the contents of the webpage.\n"
      ]
    },
    {
      "cell_type": "code",
      "metadata": {
        "id": "FOrdPWeSbc2G"
      },
      "source": [
        "soup = BeautifulSoup(html_data)"
      ],
      "execution_count": 5,
      "outputs": []
    },
    {
      "cell_type": "markdown",
      "metadata": {
        "id": "mq84oLQobc2G"
      },
      "source": [
        "Load the data from the `By market capitalization` table into a pandas dataframe. The dataframe should have the country `Name` and `Market Cap (US$ Billion)` as column names. Using the empty dataframe `data` and the given loop extract the necessary data from each row and append it to the empty dataframe.\n"
      ]
    },
    {
      "cell_type": "code",
      "metadata": {
        "colab": {
          "base_uri": "https://localhost:8080/",
          "height": 417
        },
        "id": "GS-met4Abc2G",
        "outputId": "181d75ae-c9ee-4389-9ef7-0df7acea29a7"
      },
      "source": [
        "data = pd.DataFrame(columns=[\"Name\", \"Market Cap (US$ Billion)\"])\n",
        "\n",
        "for row in soup.find_all('tbody')[3].find_all('tr'):\n",
        "    col = row.find_all(\"td\")\n",
        "    if (col != []):\n",
        "        name = col[1].text.replace('\\n' , '')\n",
        "        market_cap = col[2].text.replace('\\n' , '')\n",
        "        data = data.append({\"Name\":name, \"Market Cap (US$ Billion)\":market_cap},ignore_index=True)\n",
        "\n",
        "data"
      ],
      "execution_count": 6,
      "outputs": [
        {
          "output_type": "execute_result",
          "data": {
            "text/html": [
              "<div>\n",
              "<style scoped>\n",
              "    .dataframe tbody tr th:only-of-type {\n",
              "        vertical-align: middle;\n",
              "    }\n",
              "\n",
              "    .dataframe tbody tr th {\n",
              "        vertical-align: top;\n",
              "    }\n",
              "\n",
              "    .dataframe thead th {\n",
              "        text-align: right;\n",
              "    }\n",
              "</style>\n",
              "<table border=\"1\" class=\"dataframe\">\n",
              "  <thead>\n",
              "    <tr style=\"text-align: right;\">\n",
              "      <th></th>\n",
              "      <th>Name</th>\n",
              "      <th>Market Cap (US$ Billion)</th>\n",
              "    </tr>\n",
              "  </thead>\n",
              "  <tbody>\n",
              "    <tr>\n",
              "      <th>0</th>\n",
              "      <td>JPMorgan Chase</td>\n",
              "      <td>487.220</td>\n",
              "    </tr>\n",
              "    <tr>\n",
              "      <th>1</th>\n",
              "      <td>Industrial and Commercial Bank of China</td>\n",
              "      <td>345.214</td>\n",
              "    </tr>\n",
              "    <tr>\n",
              "      <th>2</th>\n",
              "      <td>Bank of America</td>\n",
              "      <td>325.331</td>\n",
              "    </tr>\n",
              "    <tr>\n",
              "      <th>3</th>\n",
              "      <td>Wells Fargo</td>\n",
              "      <td>308.013</td>\n",
              "    </tr>\n",
              "    <tr>\n",
              "      <th>4</th>\n",
              "      <td>China Construction Bank</td>\n",
              "      <td>257.399</td>\n",
              "    </tr>\n",
              "    <tr>\n",
              "      <th>...</th>\n",
              "      <td>...</td>\n",
              "      <td>...</td>\n",
              "    </tr>\n",
              "    <tr>\n",
              "      <th>65</th>\n",
              "      <td>Ping An Bank</td>\n",
              "      <td>37.993</td>\n",
              "    </tr>\n",
              "    <tr>\n",
              "      <th>66</th>\n",
              "      <td>Standard Chartered</td>\n",
              "      <td>37.319</td>\n",
              "    </tr>\n",
              "    <tr>\n",
              "      <th>67</th>\n",
              "      <td>United Overseas Bank</td>\n",
              "      <td>35.128</td>\n",
              "    </tr>\n",
              "    <tr>\n",
              "      <th>68</th>\n",
              "      <td>QNB Group</td>\n",
              "      <td>33.560</td>\n",
              "    </tr>\n",
              "    <tr>\n",
              "      <th>69</th>\n",
              "      <td>Bank Rakyat Indonesia</td>\n",
              "      <td>33.081</td>\n",
              "    </tr>\n",
              "  </tbody>\n",
              "</table>\n",
              "<p>70 rows × 2 columns</p>\n",
              "</div>"
            ],
            "text/plain": [
              "                                        Name Market Cap (US$ Billion)\n",
              "0                             JPMorgan Chase                  487.220\n",
              "1    Industrial and Commercial Bank of China                  345.214\n",
              "2                            Bank of America                  325.331\n",
              "3                                Wells Fargo                  308.013\n",
              "4                    China Construction Bank                  257.399\n",
              "..                                       ...                      ...\n",
              "65                              Ping An Bank                   37.993\n",
              "66                        Standard Chartered                   37.319\n",
              "67                      United Overseas Bank                   35.128\n",
              "68                                 QNB Group                   33.560\n",
              "69                     Bank Rakyat Indonesia                   33.081\n",
              "\n",
              "[70 rows x 2 columns]"
            ]
          },
          "metadata": {},
          "execution_count": 6
        }
      ]
    },
    {
      "cell_type": "markdown",
      "metadata": {
        "id": "w2vESHvybc2H"
      },
      "source": [
        "**Question 3** Display the first five rows using the `head` function.\n"
      ]
    },
    {
      "cell_type": "code",
      "metadata": {
        "colab": {
          "base_uri": "https://localhost:8080/",
          "height": 203
        },
        "id": "NdycrZ2ibc2H",
        "outputId": "442e3f2f-1bcb-4790-bc90-7b6ea315fd86"
      },
      "source": [
        "data.head()"
      ],
      "execution_count": 7,
      "outputs": [
        {
          "output_type": "execute_result",
          "data": {
            "text/html": [
              "<div>\n",
              "<style scoped>\n",
              "    .dataframe tbody tr th:only-of-type {\n",
              "        vertical-align: middle;\n",
              "    }\n",
              "\n",
              "    .dataframe tbody tr th {\n",
              "        vertical-align: top;\n",
              "    }\n",
              "\n",
              "    .dataframe thead th {\n",
              "        text-align: right;\n",
              "    }\n",
              "</style>\n",
              "<table border=\"1\" class=\"dataframe\">\n",
              "  <thead>\n",
              "    <tr style=\"text-align: right;\">\n",
              "      <th></th>\n",
              "      <th>Name</th>\n",
              "      <th>Market Cap (US$ Billion)</th>\n",
              "    </tr>\n",
              "  </thead>\n",
              "  <tbody>\n",
              "    <tr>\n",
              "      <th>0</th>\n",
              "      <td>JPMorgan Chase</td>\n",
              "      <td>487.220</td>\n",
              "    </tr>\n",
              "    <tr>\n",
              "      <th>1</th>\n",
              "      <td>Industrial and Commercial Bank of China</td>\n",
              "      <td>345.214</td>\n",
              "    </tr>\n",
              "    <tr>\n",
              "      <th>2</th>\n",
              "      <td>Bank of America</td>\n",
              "      <td>325.331</td>\n",
              "    </tr>\n",
              "    <tr>\n",
              "      <th>3</th>\n",
              "      <td>Wells Fargo</td>\n",
              "      <td>308.013</td>\n",
              "    </tr>\n",
              "    <tr>\n",
              "      <th>4</th>\n",
              "      <td>China Construction Bank</td>\n",
              "      <td>257.399</td>\n",
              "    </tr>\n",
              "  </tbody>\n",
              "</table>\n",
              "</div>"
            ],
            "text/plain": [
              "                                       Name Market Cap (US$ Billion)\n",
              "0                            JPMorgan Chase                  487.220\n",
              "1   Industrial and Commercial Bank of China                  345.214\n",
              "2                           Bank of America                  325.331\n",
              "3                               Wells Fargo                  308.013\n",
              "4                   China Construction Bank                  257.399"
            ]
          },
          "metadata": {},
          "execution_count": 7
        }
      ]
    },
    {
      "cell_type": "markdown",
      "metadata": {
        "id": "Vzdwtf1ubc2H"
      },
      "source": [
        "### Loading the Data\n",
        "\n",
        "Usually you will Load the `pandas` dataframe created above into a JSON named `bank_market_cap.json` using the `to_json()` function, but this time the data will be sent to another team who will split the data file into two files and inspect it. If you save the data it will interfere with the next part of the assignment.\n"
      ]
    },
    {
      "cell_type": "code",
      "metadata": {
        "id": "4EomoWyWbc2H"
      },
      "source": [
        "data.to_json('bank_market_cap.json')"
      ],
      "execution_count": 8,
      "outputs": []
    },
    {
      "cell_type": "markdown",
      "metadata": {
        "id": "R6y2r5Njbc2I"
      },
      "source": [
        "## Authors\n"
      ]
    },
    {
      "cell_type": "markdown",
      "metadata": {
        "id": "8O-W6SQFbc2I"
      },
      "source": [
        "Ramesh Sannareddy, Joseph Santarcangelo and Azim Hirjani\n"
      ]
    },
    {
      "cell_type": "markdown",
      "metadata": {
        "id": "GFmy9wISbc2I"
      },
      "source": [
        "### Other Contributors\n"
      ]
    },
    {
      "cell_type": "markdown",
      "metadata": {
        "id": "xwkc_nnKbc2I"
      },
      "source": [
        "Rav Ahuja\n"
      ]
    },
    {
      "cell_type": "markdown",
      "metadata": {
        "id": "z-iNPZkRbc2I"
      },
      "source": [
        "## Change Log\n"
      ]
    },
    {
      "cell_type": "markdown",
      "metadata": {
        "id": "Urrb9pljbc2I"
      },
      "source": [
        "| Date (YYYY-MM-DD) | Version | Changed By        | Change Description                 |\n",
        "| ----------------- | ------- | ----------------- | ---------------------------------- |\n",
        "| 2020-11-25        | 0.1     | Ramesh Sannareddy | Created initial version of the lab |\n"
      ]
    },
    {
      "cell_type": "markdown",
      "metadata": {
        "id": "kglgdPuObc2J"
      },
      "source": [
        "Copyright © 2020 IBM Corporation.\n"
      ]
    }
  ]
}